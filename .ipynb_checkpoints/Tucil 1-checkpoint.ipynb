{
 "cells": [
  {
   "cell_type": "code",
   "execution_count": 1,
   "id": "79856742",
   "metadata": {},
   "outputs": [],
   "source": [
    "import numpy as np\n",
    "import pandas as pd\n",
    "\n",
    "from sklearn.datasets import load_breast_cancer\n",
    "from sklearn.metrics import f1_score, accuracy_score\n",
    "from sklearn.model_selection import train_test_split\n",
    "from sklearn import preprocessing"
   ]
  },
  {
   "cell_type": "markdown",
   "id": "1907196c",
   "metadata": {},
   "source": [
    "ID3Estimator"
   ]
  },
  {
   "cell_type": "code",
   "execution_count": 2,
   "id": "e6f50aec",
   "metadata": {},
   "outputs": [],
   "source": [
    "import six\n",
    "import sys\n",
    "sys.modules['sklearn.externals.six'] = six \n",
    "from id3 import Id3Estimator, export_text"
   ]
  },
  {
   "cell_type": "code",
   "execution_count": 3,
   "id": "1d2ae49d",
   "metadata": {},
   "outputs": [
    {
     "data": {
      "text/plain": [
       "Id3Estimator()"
      ]
     },
     "execution_count": 3,
     "metadata": {},
     "output_type": "execute_result"
    }
   ],
   "source": [
    "# Dataset 1 : Breast cancer\n",
    "bc = load_breast_cancer()\n",
    "\n",
    "# Split training and test\n",
    "bc_x_train, bc_x_test, bc_y_train, bc_y_test = train_test_split(bc.data, bc.target, test_size=0.2, train_size=0.8)\n",
    "\n",
    "# Fit\n",
    "bc_estimator = Id3Estimator()\n",
    "bc_estimator.fit(bc_x_train, bc_y_train)"
   ]
  },
  {
   "cell_type": "code",
   "execution_count": 4,
   "id": "9b106ecc",
   "metadata": {},
   "outputs": [
    {
     "name": "stdout",
     "output_type": "stream",
     "text": [
      "\n",
      "worst perimeter <=106.10\n",
      "|   worst concave points <=0.14\n",
      "|   |   mean texture <=21.58: 1 (216) \n",
      "|   |   mean texture >21.58\n",
      "|   |   |   compactness error <=0.01\n",
      "|   |   |   |   worst radius <=14.42: 1 (8) \n",
      "|   |   |   |   worst radius >14.42: 0 (3) \n",
      "|   |   |   compactness error >0.01: 1 (28) \n",
      "|   worst concave points >0.14\n",
      "|   |   worst texture <=25.94: 1 (8) \n",
      "|   |   worst texture >25.94\n",
      "|   |   |   worst symmetry <=0.28\n",
      "|   |   |   |   mean radius <=14.06: 1 (2) \n",
      "|   |   |   |   mean radius >14.06: 0 (1) \n",
      "|   |   |   worst symmetry >0.28: 0 (10) \n",
      "worst perimeter >106.10\n",
      "|   worst concave points <=0.15\n",
      "|   |   worst texture <=19.91: 1 (11) \n",
      "|   |   worst texture >19.91\n",
      "|   |   |   worst radius <=16.80\n",
      "|   |   |   |   worst smoothness <=0.14: 1 (6) \n",
      "|   |   |   |   worst smoothness >0.14: 0 (2) \n",
      "|   |   |   worst radius >16.80\n",
      "|   |   |   |   worst concavity <=0.19\n",
      "|   |   |   |   |   mean texture <=21.26: 1 (2) \n",
      "|   |   |   |   |   mean texture >21.26: 0 (3) \n",
      "|   |   |   |   worst concavity >0.19: 0 (19) \n",
      "|   worst concave points >0.15: 0 (136) \n",
      "\n"
     ]
    }
   ],
   "source": [
    "# Visualisasi\n",
    "r = export_text(bc_estimator.tree_, bc.feature_names)\n",
    "print(r)"
   ]
  },
  {
   "cell_type": "code",
   "execution_count": 5,
   "id": "28fab3a3",
   "metadata": {},
   "outputs": [],
   "source": [
    "# Predict\n",
    "bc_pred = bc_estimator.predict(bc_x_test)"
   ]
  },
  {
   "cell_type": "code",
   "execution_count": 6,
   "id": "9fc766ea",
   "metadata": {},
   "outputs": [
    {
     "name": "stdout",
     "output_type": "stream",
     "text": [
      "Accuracy score: 0.9473684210526315\n",
      "F1 score: 0.9605263157894737\n"
     ]
    }
   ],
   "source": [
    "# Score\n",
    "\n",
    "# Accuracy\n",
    "acc_score = accuracy_score(bc_y_test, bc_pred)\n",
    "# F1 Score\n",
    "f_score = f1_score(bc_y_test, bc_pred)\n",
    "print(f\"Accuracy score: {acc_score}\")\n",
    "print(f\"F1 score: {f_score}\")"
   ]
  },
  {
   "cell_type": "code",
   "execution_count": 7,
   "id": "4e0fc69a",
   "metadata": {},
   "outputs": [
    {
     "name": "stdout",
     "output_type": "stream",
     "text": [
      "    day   outlook  temp humidity    wind play\n",
      "0    D1     Sunny   Hot     High    Weak   No\n",
      "1    D2     Sunny   Hot     High  Strong   No\n",
      "2    D3  Overcast   Hot     High    Weak  Yes\n",
      "3    D4      Rain  Mild     High    Weak  Yes\n",
      "4    D5      Rain  Cool   Normal    Weak  Yes\n",
      "5    D6      Rain  Cool   Normal  Strong   No\n",
      "6    D7  Overcast  Cool   Normal  Strong  Yes\n",
      "7    D8     Sunny  Mild     High    Weak   No\n",
      "8    D9     Sunny  Cool   Normal    Weak  Yes\n",
      "9   D10      Rain  Mild   Normal    Weak  Yes\n",
      "10  D11     Sunny  Mild   Normal  Strong  Yes\n",
      "11  D12  Overcast  Mild     High  Strong  Yes\n",
      "12  D13  Overcast   Hot   Normal    Weak  Yes\n",
      "13  D14      Rain  Mild     High  Strong   No\n"
     ]
    }
   ],
   "source": [
    "# Dataset 2 : Play-tennis\n",
    "# Load dataset\n",
    "df = pd.read_csv('play_tennis.csv')\n",
    "print(df)"
   ]
  },
  {
   "cell_type": "code",
   "execution_count": 8,
   "id": "6587a9f2",
   "metadata": {},
   "outputs": [],
   "source": [
    "# Transform\n",
    "le = preprocessing.LabelEncoder()\n",
    "\n",
    "# Data\n",
    "play_tennis_data = {}\n",
    "play_tennis_data['day'] = list(le.fit_transform(df['day']))\n",
    "play_tennis_data['outlook'] = list(le.fit_transform(df['outlook']))\n",
    "play_tennis_data['humidity'] = list(le.fit_transform(df['humidity']))\n",
    "play_tennis_data['wind'] = list(le.fit_transform(df['wind']))\n",
    "play_tennis_data['play'] = list(le.fit_transform(df['play']))\n",
    "\n",
    "# Initialize label and target\n",
    "play_tennis_label = []\n",
    "play_tennis_target = []\n",
    "\n",
    "# Inset label and target\n",
    "for i in range(len(play_tennis_data['day'])):\n",
    "    label = []\n",
    "    label.append(play_tennis_data['outlook'][i])\n",
    "    label.append(play_tennis_data['humidity'][i])\n",
    "    label.append(play_tennis_data['wind'][i])\n",
    "    \n",
    "    play_tennis_label.append(label)\n",
    "    play_tennis_target.append(play_tennis_data['play'][i])\n",
    "\n",
    "# Feature names\n",
    "play_tennis_data['feature_names'] = ['outlook', 'humidity', 'wind']"
   ]
  },
  {
   "cell_type": "code",
   "execution_count": 9,
   "id": "b3eb3e8a",
   "metadata": {},
   "outputs": [
    {
     "data": {
      "text/plain": [
       "Id3Estimator(max_depth=4)"
      ]
     },
     "execution_count": 9,
     "metadata": {},
     "output_type": "execute_result"
    }
   ],
   "source": [
    "# Split training and test\n",
    "x_train, x_test, y_train, y_test = train_test_split(play_tennis_label, play_tennis_target, test_size=0.2, train_size=0.8)\n",
    "\n",
    "# Fit\n",
    "estimator = Id3Estimator(max_depth=4)\n",
    "estimator.fit(x_train, y_train)"
   ]
  },
  {
   "cell_type": "code",
   "execution_count": 10,
   "id": "b2f4919b",
   "metadata": {},
   "outputs": [
    {
     "name": "stdout",
     "output_type": "stream",
     "text": [
      "\n",
      "outlook <=0.50: 1 (2) \n",
      "outlook >0.50\n",
      "|   wind <=0.50: 0 (3) \n",
      "|   wind >0.50\n",
      "|   |   humidity <=0.50: 0 (2/1) \n",
      "|   |   humidity >0.50: 1 (3) \n",
      "\n"
     ]
    }
   ],
   "source": [
    "# Visualisasi\n",
    "r = export_text(estimator.tree_, play_tennis_data['feature_names'])\n",
    "print(r)"
   ]
  },
  {
   "cell_type": "code",
   "execution_count": 11,
   "id": "23c2a72c",
   "metadata": {},
   "outputs": [],
   "source": [
    "# Predict\n",
    "pred = estimator.predict(x_test)"
   ]
  },
  {
   "cell_type": "code",
   "execution_count": 12,
   "id": "63f426a0",
   "metadata": {},
   "outputs": [
    {
     "name": "stdout",
     "output_type": "stream",
     "text": [
      "Accuracy score : 0.6666666666666666\n",
      "F1 score       : 0.8\n"
     ]
    }
   ],
   "source": [
    "# Score\n",
    "# Accuracy\n",
    "acc_score = accuracy_score(y_test, pred)\n",
    "# F1 Score\n",
    "f_score = f1_score(y_test, pred)\n",
    "print(f\"Accuracy score : {acc_score}\")\n",
    "print(f\"F1 score       : {f_score}\")"
   ]
  },
  {
   "cell_type": "markdown",
   "id": "4c3e7f57",
   "metadata": {},
   "source": [
    "Logistic Regression"
   ]
  },
  {
   "cell_type": "code",
   "execution_count": 13,
   "id": "576d92d1",
   "metadata": {},
   "outputs": [],
   "source": [
    "from sklearn.linear_model import LogisticRegression"
   ]
  },
  {
   "cell_type": "code",
   "execution_count": 14,
   "id": "c2a7dc1f",
   "metadata": {},
   "outputs": [],
   "source": [
    "# Dataset 1 : Breast cancer\n",
    "bc_lr_X, bc_lr_y = load_breast_cancer(return_X_y=True)"
   ]
  },
  {
   "cell_type": "code",
   "execution_count": 15,
   "id": "2b41fc7f",
   "metadata": {},
   "outputs": [],
   "source": [
    "# Split training and test\n",
    "bc_x_train, bc_x_test, bc_y_train, bc_y_test = train_test_split(bc_lr_X, bc_lr_y, test_size=0.2, train_size=0.8)"
   ]
  },
  {
   "cell_type": "code",
   "execution_count": 16,
   "id": "1a29ff08",
   "metadata": {},
   "outputs": [
    {
     "data": {
      "text/plain": [
       "LogisticRegression(max_iter=10000, random_state=0)"
      ]
     },
     "execution_count": 16,
     "metadata": {},
     "output_type": "execute_result"
    }
   ],
   "source": [
    "# Fit\n",
    "clf = LogisticRegression(random_state=0, max_iter=10000)\n",
    "clf.fit(bc_x_train, bc_y_train)"
   ]
  },
  {
   "cell_type": "code",
   "execution_count": null,
   "id": "7d24faaf",
   "metadata": {},
   "outputs": [],
   "source": [
    "# Visualiasi\n",
    "#\n",
    "#"
   ]
  },
  {
   "cell_type": "code",
   "execution_count": 22,
   "id": "9dd4db10",
   "metadata": {},
   "outputs": [],
   "source": [
    "# Predict\n",
    "bc_lr_pred = clf.predict(bc_x_test)"
   ]
  },
  {
   "cell_type": "code",
   "execution_count": 23,
   "id": "6f56a525",
   "metadata": {},
   "outputs": [
    {
     "name": "stdout",
     "output_type": "stream",
     "text": [
      "Accuracy score: 0.9912280701754386\n",
      "F1 score: 0.9928057553956835\n"
     ]
    }
   ],
   "source": [
    "# Score\n",
    "# Accuracy\n",
    "acc_score = accuracy_score(bc_y_test, bc_lr_pred)\n",
    "# F1 Score\n",
    "f_score = f1_score(bc_y_test, bc_lr_pred)\n",
    "print(f\"Accuracy score: {acc_score}\")\n",
    "print(f\"F1 score: {f_score}\")"
   ]
  },
  {
   "cell_type": "code",
   "execution_count": null,
   "id": "6d82df8a",
   "metadata": {},
   "outputs": [],
   "source": []
  }
 ],
 "metadata": {
  "kernelspec": {
   "display_name": "Python 3 (ipykernel)",
   "language": "python",
   "name": "python3"
  },
  "language_info": {
   "codemirror_mode": {
    "name": "ipython",
    "version": 3
   },
   "file_extension": ".py",
   "mimetype": "text/x-python",
   "name": "python",
   "nbconvert_exporter": "python",
   "pygments_lexer": "ipython3",
   "version": "3.10.2"
  }
 },
 "nbformat": 4,
 "nbformat_minor": 5
}
