{
 "cells": [
  {
   "cell_type": "code",
   "execution_count": 1,
   "metadata": {},
   "outputs": [],
   "source": [
    "import numpy as np\n",
    "import pandas as pd\n",
    "\n",
    "from sklearn.datasets import load_breast_cancer\n",
    "from sklearn.metrics import f1_score, accuracy_score\n",
    "from sklearn.model_selection import train_test_split\n",
    "from sklearn import preprocessing\n",
    "from math import trunc\n",
    "from sklearn import tree\n",
    "from sklearn.cluster import KMeans\n",
    "from sklearn.neural_network import MLPClassifier\n",
    "import matplotlib.pyplot as plt"
   ]
  },
  {
   "cell_type": "code",
   "execution_count": 2,
   "metadata": {},
   "outputs": [],
   "source": [
    "# Load dataset\n",
    "# Breast cancer\n",
    "breast_cancer = load_breast_cancer()\n",
    "\n",
    "# Play tennis\n",
    "df = pd.read_csv('play_tennis.csv')\n",
    "\n",
    "# Transform\n",
    "le = preprocessing.LabelEncoder()\n",
    "\n",
    "# Data\n",
    "play_tennis_data = {}\n",
    "play_tennis_data['day'] = list(le.fit_transform(df['day']))\n",
    "play_tennis_data['outlook'] = list(le.fit_transform(df['outlook']))\n",
    "play_tennis_data['humidity'] = list(le.fit_transform(df['humidity']))\n",
    "play_tennis_data['wind'] = list(le.fit_transform(df['wind']))\n",
    "play_tennis_data['play'] = list(le.fit_transform(df['play']))\n",
    "\n",
    "# Initialize label and target\n",
    "play_tennis_label = []\n",
    "play_tennis_target = []\n",
    "\n",
    "# Inset label and target\n",
    "for i in range(len(play_tennis_data['day'])):\n",
    "    label = []\n",
    "    label.append(play_tennis_data['outlook'][i])\n",
    "    label.append(play_tennis_data['humidity'][i])\n",
    "    label.append(play_tennis_data['wind'][i])\n",
    "    \n",
    "    play_tennis_label.append(label)\n",
    "    play_tennis_target.append(play_tennis_data['play'][i])\n",
    "\n",
    "# Feature names\n",
    "play_tennis_data['feature_names'] = ['outlook', 'humidity', 'wind']"
   ]
  },
  {
   "cell_type": "code",
   "execution_count": 3,
   "metadata": {},
   "outputs": [],
   "source": [
    "# Split training and test data\n",
    "def split_data(label, target):\n",
    "    x_train, x_test, y_train, y_test = train_test_split(label, target, test_size=0.2, train_size=0.8)\n",
    "    return x_train, x_test, y_train, y_test\n",
    "\n",
    "# Split breast cancer\n",
    "bc_x_train, bc_x_test, bc_y_train, bc_y_test = split_data(breast_cancer.data, breast_cancer.target)\n",
    "\n",
    "# Split play tennis\n",
    "pt_x_train, pt_x_test, pt_y_train, pt_y_test = split_data(play_tennis_label, play_tennis_target)"
   ]
  },
  {
   "cell_type": "markdown",
   "metadata": {},
   "source": [
    "## ID3Estimator"
   ]
  },
  {
   "cell_type": "code",
   "execution_count": 4,
   "metadata": {},
   "outputs": [
    {
     "ename": "ModuleNotFoundError",
     "evalue": "No module named 'id3'",
     "output_type": "error",
     "traceback": [
      "\u001b[1;31m---------------------------------------------------------------------------\u001b[0m",
      "\u001b[1;31mModuleNotFoundError\u001b[0m                       Traceback (most recent call last)",
      "\u001b[1;32m<ipython-input-4-a03084dbdac1>\u001b[0m in \u001b[0;36m<module>\u001b[1;34m\u001b[0m\n\u001b[0;32m      2\u001b[0m \u001b[1;32mimport\u001b[0m \u001b[0msys\u001b[0m\u001b[1;33m\u001b[0m\u001b[1;33m\u001b[0m\u001b[0m\n\u001b[0;32m      3\u001b[0m \u001b[0msys\u001b[0m\u001b[1;33m.\u001b[0m\u001b[0mmodules\u001b[0m\u001b[1;33m[\u001b[0m\u001b[1;34m'sklearn.externals.six'\u001b[0m\u001b[1;33m]\u001b[0m \u001b[1;33m=\u001b[0m \u001b[0msix\u001b[0m\u001b[1;33m\u001b[0m\u001b[1;33m\u001b[0m\u001b[0m\n\u001b[1;32m----> 4\u001b[1;33m \u001b[1;32mfrom\u001b[0m \u001b[0mid3\u001b[0m \u001b[1;32mimport\u001b[0m \u001b[0mId3Estimator\u001b[0m\u001b[1;33m,\u001b[0m \u001b[0mexport_text\u001b[0m\u001b[1;33m\u001b[0m\u001b[1;33m\u001b[0m\u001b[0m\n\u001b[0m\u001b[0;32m      5\u001b[0m \u001b[1;33m\u001b[0m\u001b[0m\n\u001b[0;32m      6\u001b[0m \u001b[1;32mdef\u001b[0m \u001b[0mid3Estimator\u001b[0m\u001b[1;33m(\u001b[0m\u001b[0mx_train\u001b[0m\u001b[1;33m,\u001b[0m \u001b[0mx_test\u001b[0m\u001b[1;33m,\u001b[0m \u001b[0my_train\u001b[0m\u001b[1;33m,\u001b[0m \u001b[0my_test\u001b[0m\u001b[1;33m,\u001b[0m \u001b[0mfeature_names\u001b[0m\u001b[1;33m)\u001b[0m\u001b[1;33m:\u001b[0m\u001b[1;33m\u001b[0m\u001b[1;33m\u001b[0m\u001b[0m\n",
      "\u001b[1;31mModuleNotFoundError\u001b[0m: No module named 'id3'"
     ]
    }
   ],
   "source": [
    "import six\n",
    "import sys\n",
    "sys.modules['sklearn.externals.six'] = six \n",
    "from id3 import Id3Estimator, export_text\n",
    "\n",
    "def id3Estimator(x_train, x_test, y_train, y_test, feature_names):\n",
    "    # Fit\n",
    "    estimator = Id3Estimator()\n",
    "    estimator.fit(x_train, y_train)\n",
    "    \n",
    "    # Visualize\n",
    "    r = export_text(estimator.tree_, feature_names)\n",
    "    print(f\"Tree{r}\")\n",
    "    \n",
    "    # Predict\n",
    "    pred = estimator.predict(x_test)\n",
    "    \n",
    "    # Score\n",
    "    # Accuracy\n",
    "    acc_score = accuracy_score(y_test, pred)\n",
    "    # F1 Score\n",
    "    f_score = f1_score(y_test, pred)\n",
    "    print(f\"Accuracy score : {acc_score}\")\n",
    "    print(f\"F1 score       : {f_score}\")"
   ]
  },
  {
   "cell_type": "code",
   "execution_count": 5,
   "metadata": {},
   "outputs": [
    {
     "ename": "NameError",
     "evalue": "name 'id3Estimator' is not defined",
     "output_type": "error",
     "traceback": [
      "\u001b[1;31m---------------------------------------------------------------------------\u001b[0m",
      "\u001b[1;31mNameError\u001b[0m                                 Traceback (most recent call last)",
      "\u001b[1;32m<ipython-input-5-daefef1641f7>\u001b[0m in \u001b[0;36m<module>\u001b[1;34m\u001b[0m\n\u001b[0;32m      1\u001b[0m \u001b[1;31m# Breast cancer\u001b[0m\u001b[1;33m\u001b[0m\u001b[1;33m\u001b[0m\u001b[1;33m\u001b[0m\u001b[0m\n\u001b[1;32m----> 2\u001b[1;33m \u001b[0mid3Estimator\u001b[0m\u001b[1;33m(\u001b[0m\u001b[0mbc_x_train\u001b[0m\u001b[1;33m,\u001b[0m \u001b[0mbc_x_test\u001b[0m\u001b[1;33m,\u001b[0m \u001b[0mbc_y_train\u001b[0m\u001b[1;33m,\u001b[0m \u001b[0mbc_y_test\u001b[0m\u001b[1;33m,\u001b[0m \u001b[0mbreast_cancer\u001b[0m\u001b[1;33m.\u001b[0m\u001b[0mfeature_names\u001b[0m\u001b[1;33m)\u001b[0m\u001b[1;33m\u001b[0m\u001b[1;33m\u001b[0m\u001b[0m\n\u001b[0m",
      "\u001b[1;31mNameError\u001b[0m: name 'id3Estimator' is not defined"
     ]
    }
   ],
   "source": [
    "# Breast cancer\n",
    "id3Estimator(bc_x_train, bc_x_test, bc_y_train, bc_y_test, breast_cancer.feature_names)"
   ]
  },
  {
   "cell_type": "code",
   "execution_count": null,
   "metadata": {},
   "outputs": [],
   "source": [
    "# Play tennis\n",
    "id3Estimator(pt_x_train, pt_x_test, pt_y_train, pt_y_test, play_tennis_data['feature_names'])"
   ]
  },
  {
   "cell_type": "markdown",
   "metadata": {},
   "source": [
    "## Logistic Regression"
   ]
  },
  {
   "cell_type": "code",
   "execution_count": 6,
   "metadata": {},
   "outputs": [],
   "source": [
    "from sklearn.linear_model import LogisticRegression"
   ]
  },
  {
   "cell_type": "code",
   "execution_count": 7,
   "metadata": {},
   "outputs": [],
   "source": [
    "def logisticRegression(x_train, x_test, y_train, y_test):\n",
    "    # Fit\n",
    "    clf = LogisticRegression(random_state=0, max_iter=10000)\n",
    "    clf.fit(x_train, y_train)\n",
    "    \n",
    "    # Visualisasi model\n",
    "    #\n",
    "    \n",
    "    # Predict\n",
    "    pred = clf.predict(x_test)\n",
    "    \n",
    "    # Score\n",
    "    # Accuracy\n",
    "    acc_score = accuracy_score(y_test, pred)\n",
    "    # F1 Score\n",
    "    f_score = f1_score(y_test, pred)\n",
    "    \n",
    "    print(f\"Accuracy score : {acc_score}\")\n",
    "    print(f\"F1 score       : {f_score}\")"
   ]
  },
  {
   "cell_type": "code",
   "execution_count": 8,
   "metadata": {},
   "outputs": [
    {
     "name": "stdout",
     "output_type": "stream",
     "text": [
      "Accuracy score : 0.9649122807017544\n",
      "F1 score       : 0.972972972972973\n"
     ]
    }
   ],
   "source": [
    "# Breast cancer\n",
    "logisticRegression(bc_x_train, bc_x_test, bc_y_train, bc_y_test)"
   ]
  },
  {
   "cell_type": "code",
   "execution_count": 9,
   "metadata": {},
   "outputs": [
    {
     "name": "stdout",
     "output_type": "stream",
     "text": [
      "Accuracy score : 0.6666666666666666\n",
      "F1 score       : 0.8\n"
     ]
    }
   ],
   "source": [
    "# Play tennis\n",
    "logisticRegression(pt_x_train, pt_x_test, pt_y_train, pt_y_test)"
   ]
  },
  {
   "cell_type": "markdown",
   "metadata": {},
   "source": [
    "## Decision Tree Classifier"
   ]
  },
  {
   "cell_type": "code",
   "execution_count": 10,
   "metadata": {},
   "outputs": [],
   "source": [
    "def decision_tree_classifier(X, X_test, y, y_test):\n",
    "    # Learning process\n",
    "    clf = tree.DecisionTreeClassifier()\n",
    "    clf = clf.fit(X,y)\n",
    "    tree.plot_tree(clf)\n",
    "    \n",
    "    # Prediction\n",
    "    y_pred = clf.predict(X_test)\n",
    "\n",
    "    # Test\n",
    "    print(\"Accuracy score :\", accuracy_score(y_test, y_pred))\n",
    "    print(\"F1 score       :\", f1_score(y_test, y_pred))"
   ]
  },
  {
   "cell_type": "code",
   "execution_count": 11,
   "metadata": {},
   "outputs": [
    {
     "name": "stdout",
     "output_type": "stream",
     "text": [
      "Accuracy score : 0.8947368421052632\n",
      "F1 score       : 0.918918918918919\n"
     ]
    },
    {
     "data": {
      "image/png": "[encoded data removed]",
      "text/plain": [
       "<Figure size 432x288 with 1 Axes>"
      ]
     },
     "metadata": {
      "needs_background": "light"
     },
     "output_type": "display_data"
    }
   ],
   "source": [
    "#  Dataset 1 : breast cancer\n",
    "decision_tree_classifier(bc_x_train, bc_x_test, bc_y_train, bc_y_test)"
   ]
  },
  {
   "cell_type": "code",
   "execution_count": 12,
   "metadata": {},
   "outputs": [
    {
     "name": "stdout",
     "output_type": "stream",
     "text": [
      "Accuracy score : 0.6666666666666666\n",
      "F1 score       : 0.8\n"
     ]
    },
    {
     "data": {
      "image/png": "[encoded data removed]",
      "text/plain": [
       "<Figure size 432x288 with 1 Axes>"
      ]
     },
     "metadata": {
      "needs_background": "light"
     },
     "output_type": "display_data"
    }
   ],
   "source": [
    "# Dataset 2 : play tennis\n",
    "decision_tree_classifier(pt_x_train, pt_x_test, pt_y_train, pt_y_test)"
   ]
  },
  {
   "cell_type": "markdown",
   "metadata": {},
   "source": [
    "## K-Means"
   ]
  },
  {
   "cell_type": "code",
   "execution_count": 13,
   "metadata": {},
   "outputs": [],
   "source": [
    "def k_means(X, X_test, y, y_test):\n",
    "    # Learning process\n",
    "    kmeans = KMeans(n_clusters=2, random_state=0).fit(X)\n",
    "    \n",
    "    # Prediction\n",
    "    y_pred = kmeans.predict(X_test)\n",
    "    \n",
    "    # Visualizing\n",
    "#     plt.subplot(221)\n",
    "#     plt.scatter(X_test[:, 0], X_test[:, 1], c=y_pred)\n",
    "#     plt.title(\"K Means Clustering\")\n",
    "#     plt.subplot(221)\n",
    "#     plt.clf()\n",
    "#     plt.show()\n",
    "    \n",
    "    # Testing\n",
    "    print(\"Accuracy score :\", accuracy_score(y_test, y_pred))\n",
    "    print(\"F1 score       :\", f1_score(y_test, y_pred))"
   ]
  },
  {
   "cell_type": "code",
   "execution_count": 14,
   "metadata": {},
   "outputs": [
    {
     "name": "stdout",
     "output_type": "stream",
     "text": [
      "Accuracy score : 0.11403508771929824\n",
      "F1 score       : 0.0\n"
     ]
    }
   ],
   "source": [
    "# Dataset 1 : breast cancer\n",
    "k_means(bc_x_train, bc_x_test, bc_y_train, bc_y_test)"
   ]
  },
  {
   "cell_type": "code",
   "execution_count": 15,
   "metadata": {},
   "outputs": [
    {
     "name": "stdout",
     "output_type": "stream",
     "text": [
      "Accuracy score : 0.3333333333333333\n",
      "F1 score       : 0.5\n"
     ]
    }
   ],
   "source": [
    "# Dataset 2 : play_tennis\n",
    "k_means(pt_x_train, pt_x_test, pt_y_train, pt_y_test)"
   ]
  },
  {
   "cell_type": "markdown",
   "metadata": {},
   "source": [
    "## Neural Network"
   ]
  },
  {
   "cell_type": "code",
   "execution_count": 21,
   "metadata": {},
   "outputs": [],
   "source": [
    "def neural_network(X, X_test, y, y_test):\n",
    "    # Learning process\n",
    "    clf = MLPClassifier(random_state=1, max_iter=300, tol=8e-4).fit(X, y)\n",
    "    \n",
    "    # Prediction\n",
    "    y_pred = clf.predict(X_test)\n",
    "    \n",
    "    # Testing\n",
    "    print(\"Accuracy score :\", accuracy_score(y_test, y_pred))\n",
    "    print(\"F1 score       :\", f1_score(y_test, y_pred))"
   ]
  },
  {
   "cell_type": "code",
   "execution_count": 22,
   "metadata": {},
   "outputs": [
    {
     "name": "stdout",
     "output_type": "stream",
     "text": [
      "Accuracy score : 0.9649122807017544\n",
      "F1 score       : 0.972972972972973\n"
     ]
    }
   ],
   "source": [
    "# Dataset 1 : breast cancer\n",
    "neural_network(bc_x_train, bc_x_test, bc_y_train, bc_y_test)"
   ]
  },
  {
   "cell_type": "code",
   "execution_count": 23,
   "metadata": {},
   "outputs": [
    {
     "name": "stdout",
     "output_type": "stream",
     "text": [
      "Accuracy score : 0.6666666666666666\n",
      "F1 score       : 0.8\n"
     ]
    }
   ],
   "source": [
    "# Dataset 2 : play tennis\n",
    "neural_network(pt_x_train, pt_x_test, pt_y_train, pt_y_test)"
   ]
  },
  {
   "cell_type": "code",
   "execution_count": null,
   "metadata": {},
   "outputs": [],
   "source": []
  }
 ],
 "metadata": {
  "kernelspec": {
   "display_name": "Python 3",
   "language": "python",
   "name": "python3"
  },
  "language_info": {
   "codemirror_mode": {
    "name": "ipython",
    "version": 3
   },
   "file_extension": ".py",
   "mimetype": "text/x-python",
   "name": "python",
   "nbconvert_exporter": "python",
   "pygments_lexer": "ipython3",
   "version": "3.8.4"
  }
 },
 "nbformat": 4,
 "nbformat_minor": 5
}
