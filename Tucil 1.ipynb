{
 "cells": [
  {
   "cell_type": "code",
   "execution_count": 3,
   "id": "f94474b9",
   "metadata": {},
   "outputs": [],
   "source": [
    "import numpy as np\n",
    "import pandas as pd\n",
    "\n",
    "from sklearn.datasets import load_breast_cancer\n",
    "from sklearn.metrics import f1_score, accuracy_score\n",
    "from sklearn.model_selection import train_test_split\n",
    "from sklearn import preprocessing\n",
    "from math import trunc\n",
    "from sklearn import tree\n",
    "from sklearn.cluster import KMeans\n",
    "from sklearn.neural_network import MLPClassifier\n",
    "from sklearn.svm import SVC\n",
    "from sklearn.pipeline import make_pipeline\n",
    "from sklearn.preprocessing import StandardScaler\n",
    "\n",
    "import matplotlib.pyplot as plt"
   ]
  },
  {
   "cell_type": "code",
   "execution_count": 8,
   "id": "3b9490b9",
   "metadata": {},
   "outputs": [],
   "source": [
    "# Load dataset\n",
    "# Breast cancer\n",
    "breast_cancer = load_breast_cancer()\n",
    "\n",
    "# Play tennis\n",
    "df = pd.read_csv('play_tennis.csv')\n",
    "\n",
    "# Transform\n",
    "le = preprocessing.LabelEncoder()\n",
    "\n",
    "# Data\n",
    "play_tennis_data = {}\n",
    "play_tennis_data['day'] = list(le.fit_transform(df['day']))\n",
    "play_tennis_data['outlook'] = list(le.fit_transform(df['outlook']))\n",
    "play_tennis_data['humidity'] = list(le.fit_transform(df['humidity']))\n",
    "play_tennis_data['wind'] = list(le.fit_transform(df['wind']))\n",
    "play_tennis_data['play'] = list(le.fit_transform(df['play']))\n",
    "\n",
    "# Initialize label and target\n",
    "play_tennis_label = []\n",
    "play_tennis_target = []\n",
    "\n",
    "# Inset label and target\n",
    "for i in range(len(play_tennis_data['day'])):\n",
    "    label = []\n",
    "    label.append(play_tennis_data['outlook'][i])\n",
    "    label.append(play_tennis_data['humidity'][i])\n",
    "    label.append(play_tennis_data['wind'][i])\n",
    "    \n",
    "    play_tennis_label.append(label)\n",
    "    play_tennis_target.append(play_tennis_data['play'][i])\n",
    "\n",
    "# Feature names\n",
    "play_tennis_data['feature_names'] = ['outlook', 'humidity', 'wind']"
   ]
  },
  {
   "cell_type": "code",
   "execution_count": 9,
   "id": "b8cbcc93",
   "metadata": {},
   "outputs": [],
   "source": [
    "# Split training and test data\n",
    "def split_data(label, target):\n",
    "    x_train, x_test, y_train, y_test = train_test_split(label, target, test_size=0.2, train_size=0.8)\n",
    "    return x_train, x_test, y_train, y_test\n",
    "\n",
    "# Split breast cancer\n",
    "bc_x_train, bc_x_test, bc_y_train, bc_y_test = split_data(breast_cancer.data, breast_cancer.target)\n",
    "\n",
    "# Split play tennis\n",
    "pt_x_train, pt_x_test, pt_y_train, pt_y_test = split_data(play_tennis_label, play_tennis_target)"
   ]
  },
  {
   "cell_type": "markdown",
   "id": "e1ef2794",
   "metadata": {},
   "source": [
    "## ID3Estimator"
   ]
  },
  {
   "cell_type": "code",
   "execution_count": 10,
   "id": "033baa3e",
   "metadata": {},
   "outputs": [],
   "source": [
    "import six\n",
    "import sys\n",
    "sys.modules['sklearn.externals.six'] = six \n",
    "from id3 import Id3Estimator, export_text\n",
    "\n",
    "def id3Estimator(x_train, x_test, y_train, y_test, feature_names):\n",
    "    # Fit\n",
    "    estimator = Id3Estimator()\n",
    "    estimator.fit(x_train, y_train)\n",
    "    \n",
    "    # Visualize\n",
    "    r = export_text(estimator.tree_, feature_names)\n",
    "    print(f\"Tree{r}\")\n",
    "    \n",
    "    # Predict\n",
    "    pred = estimator.predict(x_test)\n",
    "    \n",
    "    # Score\n",
    "    # Accuracy\n",
    "    acc_score = accuracy_score(y_test, pred)\n",
    "    # F1 Score\n",
    "    f_score = f1_score(y_test, pred)\n",
    "    print(f\"Accuracy score : {acc_score}\")\n",
    "    print(f\"F1 score       : {f_score}\")"
   ]
  },
  {
   "cell_type": "code",
   "execution_count": 11,
   "id": "e0b27db2",
   "metadata": {},
   "outputs": [
    {
     "name": "stdout",
     "output_type": "stream",
     "text": [
      "Tree\n",
      "worst radius <=16.81\n",
      "|   worst concave points <=0.14\n",
      "|   |   area error <=38.60\n",
      "|   |   |   worst texture <=30.15: 1 (216) \n",
      "|   |   |   worst texture >30.15\n",
      "|   |   |   |   texture error <=0.87: 0 (1) \n",
      "|   |   |   |   texture error >0.87\n",
      "|   |   |   |   |   perimeter error <=1.47\n",
      "|   |   |   |   |   |   mean smoothness <=0.09: 1 (6) \n",
      "|   |   |   |   |   |   mean smoothness >0.09: 0 (1) \n",
      "|   |   |   |   |   perimeter error >1.47: 1 (27) \n",
      "|   |   area error >38.60\n",
      "|   |   |   mean compactness <=0.06: 0 (2) \n",
      "|   |   |   mean compactness >0.06\n",
      "|   |   |   |   radius error <=0.42: 0 (1) \n",
      "|   |   |   |   radius error >0.42: 1 (9) \n",
      "|   worst concave points >0.14\n",
      "|   |   mean texture <=20.30\n",
      "|   |   |   worst smoothness <=0.14: 1 (10) \n",
      "|   |   |   worst smoothness >0.14\n",
      "|   |   |   |   area error <=21.32\n",
      "|   |   |   |   |   mean smoothness <=0.11: 1 (6) \n",
      "|   |   |   |   |   mean smoothness >0.11: 0 (1) \n",
      "|   |   |   |   area error >21.32\n",
      "|   |   |   |   |   mean radius <=14.76: 0 (6) \n",
      "|   |   |   |   |   mean radius >14.76: 1 (1) \n",
      "|   |   mean texture >20.30: 0 (14) \n",
      "worst radius >16.81\n",
      "|   mean concavity <=0.07\n",
      "|   |   mean texture <=19.83\n",
      "|   |   |   mean compactness <=0.06: 0 (1) \n",
      "|   |   |   mean compactness >0.06: 1 (7) \n",
      "|   |   mean texture >19.83: 0 (7) \n",
      "|   mean concavity >0.07\n",
      "|   |   radius error <=0.19: 1 (1) \n",
      "|   |   radius error >0.19: 0 (138) \n",
      "\n",
      "Accuracy score : 0.9824561403508771\n",
      "F1 score       : 0.9864864864864865\n"
     ]
    }
   ],
   "source": [
    "# Breast cancer\n",
    "id3Estimator(bc_x_train, bc_x_test, bc_y_train, bc_y_test, breast_cancer.feature_names)"
   ]
  },
  {
   "cell_type": "code",
   "execution_count": 12,
   "id": "1b7d7282",
   "metadata": {},
   "outputs": [
    {
     "name": "stdout",
     "output_type": "stream",
     "text": [
      "Tree\n",
      "outlook <=0.50: 1 (2) \n",
      "outlook >0.50\n",
      "|   humidity <=0.50\n",
      "|   |   wind <=0.50: 0 (2) \n",
      "|   |   wind >0.50: 0 (2/1) \n",
      "|   humidity >0.50\n",
      "|   |   wind <=0.50: 0 (1/1) \n",
      "|   |   wind >0.50: 1 (2) \n",
      "\n",
      "Accuracy score : 1.0\n",
      "F1 score       : 1.0\n"
     ]
    }
   ],
   "source": [
    "# Play tennis\n",
    "id3Estimator(pt_x_train, pt_x_test, pt_y_train, pt_y_test, play_tennis_data['feature_names'])"
   ]
  },
  {
   "cell_type": "markdown",
   "id": "c4249c79",
   "metadata": {},
   "source": [
    "## Logistic Regression"
   ]
  },
  {
   "cell_type": "code",
   "execution_count": 13,
   "id": "9ff92abe",
   "metadata": {},
   "outputs": [],
   "source": [
    "from sklearn.linear_model import LogisticRegression"
   ]
  },
  {
   "cell_type": "code",
   "execution_count": 14,
   "id": "0994344d",
   "metadata": {},
   "outputs": [],
   "source": [
    "def logisticRegression(x_train, x_test, y_train, y_test):\n",
    "    # Fit\n",
    "    clf = LogisticRegression(random_state=0, max_iter=10000)\n",
    "    clf.fit(x_train, y_train)\n",
    "    \n",
    "    # Visualisasi model\n",
    "    #\n",
    "    \n",
    "    # Predict\n",
    "    pred = clf.predict(x_test)\n",
    "    \n",
    "    # Score\n",
    "    # Accuracy\n",
    "    acc_score = accuracy_score(y_test, pred)\n",
    "    # F1 Score\n",
    "    f_score = f1_score(y_test, pred)\n",
    "    \n",
    "    print(f\"Accuracy score : {acc_score}\")\n",
    "    print(f\"F1 score       : {f_score}\")"
   ]
  },
  {
   "cell_type": "code",
   "execution_count": 15,
   "id": "3a6180fe",
   "metadata": {},
   "outputs": [
    {
     "name": "stdout",
     "output_type": "stream",
     "text": [
      "Accuracy score : 0.9824561403508771\n",
      "F1 score       : 0.9864864864864865\n"
     ]
    }
   ],
   "source": [
    "# Breast cancer\n",
    "logisticRegression(bc_x_train, bc_x_test, bc_y_train, bc_y_test)"
   ]
  },
  {
   "cell_type": "code",
   "execution_count": 16,
   "id": "4798f539",
   "metadata": {},
   "outputs": [
    {
     "name": "stdout",
     "output_type": "stream",
     "text": [
      "Accuracy score : 1.0\n",
      "F1 score       : 1.0\n"
     ]
    }
   ],
   "source": [
    "# Play tennis\n",
    "logisticRegression(pt_x_train, pt_x_test, pt_y_train, pt_y_test)"
   ]
  },
  {
   "cell_type": "markdown",
   "id": "982514e6",
   "metadata": {},
   "source": [
    "## Decision Tree Classifier"
   ]
  },
  {
   "cell_type": "code",
   "execution_count": 17,
   "id": "41f3a845",
   "metadata": {},
   "outputs": [],
   "source": [
    "def decision_tree_classifier(X, X_test, y, y_test):\n",
    "    # Learning process\n",
    "    clf = tree.DecisionTreeClassifier()\n",
    "    clf = clf.fit(X,y)\n",
    "    tree.plot_tree(clf)\n",
    "    \n",
    "    # Prediction\n",
    "    y_pred = clf.predict(X_test)\n",
    "\n",
    "    # Test\n",
    "    print(\"Accuracy score :\", accuracy_score(y_test, y_pred))\n",
    "    print(\"F1 score       :\", f1_score(y_test, y_pred))"
   ]
  },
  {
   "cell_type": "code",
   "execution_count": 18,
   "id": "482be823",
   "metadata": {},
   "outputs": [
    {
     "name": "stdout",
     "output_type": "stream",
     "text": [
      "Accuracy score : 0.9385964912280702\n",
      "F1 score       : 0.9523809523809523\n"
     ]
    },
    {
     "data": {
      "image/png": "[encoded data removed]",
      "text/plain": [
       "<Figure size 432x288 with 1 Axes>"
      ]
     },
     "metadata": {
      "needs_background": "light"
     },
     "output_type": "display_data"
    }
   ],
   "source": [
    "#  Dataset 1 : breast cancer\n",
    "decision_tree_classifier(bc_x_train, bc_x_test, bc_y_train, bc_y_test)"
   ]
  },
  {
   "cell_type": "code",
   "execution_count": 19,
   "id": "8aff9097",
   "metadata": {},
   "outputs": [
    {
     "name": "stdout",
     "output_type": "stream",
     "text": [
      "Accuracy score : 0.3333333333333333\n",
      "F1 score       : 0.5\n"
     ]
    },
    {
     "data": {
      "image/png": "[encoded data removed]",
      "text/plain": [
       "<Figure size 432x288 with 1 Axes>"
      ]
     },
     "metadata": {
      "needs_background": "light"
     },
     "output_type": "display_data"
    }
   ],
   "source": [
    "# Dataset 2 : play tennis\n",
    "decision_tree_classifier(pt_x_train, pt_x_test, pt_y_train, pt_y_test)"
   ]
  },
  {
   "cell_type": "markdown",
   "id": "816df0cd",
   "metadata": {},
   "source": [
    "## K-Means"
   ]
  },
  {
   "cell_type": "code",
   "execution_count": 20,
   "id": "39c12887",
   "metadata": {},
   "outputs": [],
   "source": [
    "def k_means(X, X_test, y, y_test):\n",
    "    # Learning process\n",
    "    kmeans = KMeans(n_clusters=2, random_state=0).fit(X)\n",
    "    \n",
    "    # Prediction\n",
    "    y_pred = kmeans.predict(X_test)\n",
    "    \n",
    "    # Visualizing\n",
    "#     plt.subplot(221)\n",
    "#     plt.scatter(X_test[:, 0], X_test[:, 1], c=y_pred)\n",
    "#     plt.title(\"K Means Clustering\")\n",
    "#     plt.subplot(221)\n",
    "#     plt.clf()\n",
    "#     plt.show()\n",
    "    \n",
    "    # Testing\n",
    "    print(\"Accuracy score :\", accuracy_score(y_test, y_pred))\n",
    "    print(\"F1 score       :\", f1_score(y_test, y_pred))"
   ]
  },
  {
   "cell_type": "code",
   "execution_count": 21,
   "id": "9750a08e",
   "metadata": {},
   "outputs": [
    {
     "name": "stdout",
     "output_type": "stream",
     "text": [
      "Accuracy score : 0.8157894736842105\n",
      "F1 score       : 0.8757396449704142\n"
     ]
    }
   ],
   "source": [
    "# Dataset 1 : breast cancer\n",
    "k_means(bc_x_train, bc_x_test, bc_y_train, bc_y_test)"
   ]
  },
  {
   "cell_type": "code",
   "execution_count": 22,
   "id": "252fac4b",
   "metadata": {},
   "outputs": [
    {
     "name": "stdout",
     "output_type": "stream",
     "text": [
      "Accuracy score : 1.0\n",
      "F1 score       : 1.0\n"
     ]
    }
   ],
   "source": [
    "# Dataset 2 : play_tennis\n",
    "k_means(pt_x_train, pt_x_test, pt_y_train, pt_y_test)"
   ]
  },
  {
   "cell_type": "markdown",
   "id": "93984ebf",
   "metadata": {},
   "source": [
    "## Neural Network"
   ]
  },
  {
   "cell_type": "code",
   "execution_count": 23,
   "id": "f1f0d16f",
   "metadata": {},
   "outputs": [],
   "source": [
    "def neural_network(X, X_test, y, y_test):\n",
    "    # Learning process\n",
    "    clf = MLPClassifier(random_state=1, max_iter=300, tol=8e-4).fit(X, y)\n",
    "    \n",
    "    # Prediction\n",
    "    y_pred = clf.predict(X_test)\n",
    "    \n",
    "    # Testing\n",
    "    print(\"Accuracy score :\", accuracy_score(y_test, y_pred))\n",
    "    print(\"F1 score       :\", f1_score(y_test, y_pred))"
   ]
  },
  {
   "cell_type": "code",
   "execution_count": 24,
   "id": "a9875614",
   "metadata": {},
   "outputs": [
    {
     "name": "stdout",
     "output_type": "stream",
     "text": [
      "Accuracy score : 0.9736842105263158\n",
      "F1 score       : 0.979591836734694\n"
     ]
    }
   ],
   "source": [
    "# Dataset 1 : breast cancer\n",
    "neural_network(bc_x_train, bc_x_test, bc_y_train, bc_y_test)"
   ]
  },
  {
   "cell_type": "code",
   "execution_count": 25,
   "id": "f77f236d",
   "metadata": {},
   "outputs": [
    {
     "name": "stdout",
     "output_type": "stream",
     "text": [
      "Accuracy score : 0.6666666666666666\n",
      "F1 score       : 0.8\n"
     ]
    }
   ],
   "source": [
    "# Dataset 2 : play tennis\n",
    "neural_network(pt_x_train, pt_x_test, pt_y_train, pt_y_test)"
   ]
  },
  {
   "cell_type": "markdown",
   "id": "1c8a2d52",
   "metadata": {},
   "source": [
    "## Support Vector Machine "
   ]
  },
  {
   "cell_type": "code",
   "execution_count": 26,
   "id": "dc79968a",
   "metadata": {},
   "outputs": [],
   "source": [
    "def SVMlearning (x_train, x_test, y_train, y_test):\n",
    "    clf = make_pipeline(StandardScaler(), SVC(gamma='auto'))\n",
    "    clf.fit(x_train, y_train)\n",
    "    \n",
    "    pred = clf.predict(x_test)\n",
    "    \n",
    "    # Score\n",
    "    # Accuracy\n",
    "    acc_score = accuracy_score(y_test, pred)\n",
    "    # F1 Score\n",
    "    f_score = f1_score(y_test, pred)\n",
    "    \n",
    "    print(f\"Accuracy score : {acc_score}\")\n",
    "    print(f\"F1 score       : {f_score}\")"
   ]
  },
  {
   "cell_type": "code",
   "execution_count": 27,
   "id": "3766d0af",
   "metadata": {},
   "outputs": [
    {
     "name": "stdout",
     "output_type": "stream",
     "text": [
      "Accuracy score : 1.0\n",
      "F1 score       : 1.0\n"
     ]
    }
   ],
   "source": [
    "# Breast cancer\n",
    "SVMlearning(bc_x_train, bc_x_test, bc_y_train, bc_y_test)"
   ]
  },
  {
   "cell_type": "code",
   "execution_count": 29,
   "id": "75ce8196",
   "metadata": {},
   "outputs": [
    {
     "name": "stdout",
     "output_type": "stream",
     "text": [
      "Accuracy score : 0.3333333333333333\n",
      "F1 score       : 0.5\n"
     ]
    }
   ],
   "source": [
    "# Play tennis\n",
    "SVMlearning(pt_x_train, pt_x_test, pt_y_train, pt_y_test)"
   ]
  },
  {
   "cell_type": "markdown",
   "id": "f7fb40fa",
   "metadata": {},
   "source": [
    "## Analisis\n",
    "\n",
    "Evaluasi model dilakukan dengan mengukur accuracy dan F1 score dari model hasil pembelajaran. \n",
    "Pada hasil pembelajaran menggunakan keenam algoritma, SVM memberikan hasil lebih baik dibandingkan kelima jenis algoritma lainnya. "
   ]
  }
 ],
 "metadata": {
  "kernelspec": {
   "display_name": "Python 3 (ipykernel)",
   "language": "python",
   "name": "python3"
  },
  "language_info": {
   "codemirror_mode": {
    "name": "ipython",
    "version": 3
   },
   "file_extension": ".py",
   "mimetype": "text/x-python",
   "name": "python",
   "nbconvert_exporter": "python",
   "pygments_lexer": "ipython3",
   "version": "3.10.2"
  }
 },
 "nbformat": 4,
 "nbformat_minor": 5
}
