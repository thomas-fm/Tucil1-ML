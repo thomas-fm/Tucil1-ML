{
 "cells": [
  {
   "cell_type": "code",
   "execution_count": 51,
   "id": "79856742",
   "metadata": {},
   "outputs": [],
   "source": [
    "import numpy as np\n",
    "import pandas as pd\n",
    "\n",
    "from sklearn.datasets import load_breast_cancer\n",
    "from sklearn.metrics import f1_score, accuracy_score\n",
    "from sklearn.model_selection import train_test_split\n",
    "from sklearn import preprocessing"
   ]
  },
  {
   "cell_type": "code",
   "execution_count": 52,
   "id": "d30913b8",
   "metadata": {},
   "outputs": [],
   "source": [
    "# Load dataset\n",
    "# Breast cancer\n",
    "breast_cancer = load_breast_cancer()\n",
    "\n",
    "# Play tennis\n",
    "df = pd.read_csv('play_tennis.csv')\n",
    "\n",
    "# Transform\n",
    "le = preprocessing.LabelEncoder()\n",
    "\n",
    "# Data\n",
    "play_tennis_data = {}\n",
    "play_tennis_data['day'] = list(le.fit_transform(df['day']))\n",
    "play_tennis_data['outlook'] = list(le.fit_transform(df['outlook']))\n",
    "play_tennis_data['humidity'] = list(le.fit_transform(df['humidity']))\n",
    "play_tennis_data['wind'] = list(le.fit_transform(df['wind']))\n",
    "play_tennis_data['play'] = list(le.fit_transform(df['play']))\n",
    "\n",
    "# Initialize label and target\n",
    "play_tennis_label = []\n",
    "play_tennis_target = []\n",
    "\n",
    "# Inset label and target\n",
    "for i in range(len(play_tennis_data['day'])):\n",
    "    label = []\n",
    "    label.append(play_tennis_data['outlook'][i])\n",
    "    label.append(play_tennis_data['humidity'][i])\n",
    "    label.append(play_tennis_data['wind'][i])\n",
    "    \n",
    "    play_tennis_label.append(label)\n",
    "    play_tennis_target.append(play_tennis_data['play'][i])\n",
    "\n",
    "# Feature names\n",
    "play_tennis_data['feature_names'] = ['outlook', 'humidity', 'wind']"
   ]
  },
  {
   "cell_type": "code",
   "execution_count": 53,
   "id": "3f954906",
   "metadata": {},
   "outputs": [],
   "source": [
    "# Split training and test data\n",
    "def split_data(label, target):\n",
    "    x_train, x_test, y_train, y_test = train_test_split(label, target, test_size=0.2, train_size=0.8)\n",
    "    return x_train, x_test, y_train, y_test\n",
    "\n",
    "# Split breast cancer\n",
    "bc_x_train, bc_x_test, bc_y_train, bc_y_test = split_data(breast_cancer.data, breast_cancer.target)\n",
    "\n",
    "# Split play tennis\n",
    "pt_x_train, pt_x_test, pt_y_train, pt_y_test = split_data(play_tennis_label, play_tennis_target)"
   ]
  },
  {
   "cell_type": "raw",
   "id": "41484483",
   "metadata": {},
   "source": [
    "ID3Estimator "
   ]
  },
  {
   "cell_type": "code",
   "execution_count": 54,
   "id": "b925f3b0",
   "metadata": {},
   "outputs": [],
   "source": [
    "import six\n",
    "import sys\n",
    "sys.modules['sklearn.externals.six'] = six \n",
    "from id3 import Id3Estimator, export_text\n",
    "\n",
    "def id3Estimator(x_train, x_test, y_train, y_test, feature_names):\n",
    "    # Fit\n",
    "    estimator = Id3Estimator()\n",
    "    estimator.fit(x_train, y_train)\n",
    "    \n",
    "    # Visualize\n",
    "    r = export_text(estimator.tree_, feature_names)\n",
    "    print(f\"Tree{r}\")\n",
    "    \n",
    "    # Predict\n",
    "    pred = estimator.predict(x_test)\n",
    "    \n",
    "    # Score\n",
    "    # Accuracy\n",
    "    acc_score = accuracy_score(y_test, pred)\n",
    "    # F1 Score\n",
    "    f_score = f1_score(y_test, pred)\n",
    "    print(f\"Accuracy score : {acc_score}\")\n",
    "    print(f\"F1 score       : {f_score}\")"
   ]
  },
  {
   "cell_type": "code",
   "execution_count": 55,
   "id": "fa7ffb34",
   "metadata": {},
   "outputs": [
    {
     "name": "stdout",
     "output_type": "stream",
     "text": [
      "Tree\n",
      "worst perimeter <=116.05\n",
      "|   worst concave points <=0.11\n",
      "|   |   mean area <=694.50: 1 (241) \n",
      "|   |   mean area >694.50\n",
      "|   |   |   mean radius <=15.16: 0 (2) \n",
      "|   |   |   mean radius >15.16: 1 (2) \n",
      "|   worst concave points >0.11\n",
      "|   |   worst texture <=27.62\n",
      "|   |   |   mean concave points <=0.05: 1 (19) \n",
      "|   |   |   mean concave points >0.05\n",
      "|   |   |   |   worst symmetry <=0.36\n",
      "|   |   |   |   |   worst area <=808.00: 1 (12) \n",
      "|   |   |   |   |   worst area >808.00\n",
      "|   |   |   |   |   |   mean radius <=15.54: 0 (4) \n",
      "|   |   |   |   |   |   mean radius >15.54: 1 (2) \n",
      "|   |   |   |   worst symmetry >0.36: 0 (4) \n",
      "|   |   worst texture >27.62\n",
      "|   |   |   worst radius <=14.79\n",
      "|   |   |   |   mean radius <=11.36: 0 (1) \n",
      "|   |   |   |   mean radius >11.36: 1 (5) \n",
      "|   |   |   worst radius >14.79\n",
      "|   |   |   |   mean texture <=24.99: 0 (21) \n",
      "|   |   |   |   mean texture >24.99\n",
      "|   |   |   |   |   mean radius <=13.41: 0 (1) \n",
      "|   |   |   |   |   mean radius >13.41: 1 (1) \n",
      "worst perimeter >116.05\n",
      "|   fractal dimension error <=0.00: 1 (2) \n",
      "|   fractal dimension error >0.00: 0 (138) \n",
      "\n",
      "Accuracy score : 0.9122807017543859\n",
      "F1 score       : 0.9324324324324323\n"
     ]
    }
   ],
   "source": [
    "# Breast cancer\n",
    "id3Estimator(bc_x_train, bc_x_test, bc_y_train, bc_y_test, breast_cancer.feature_names)"
   ]
  },
  {
   "cell_type": "code",
   "execution_count": 56,
   "id": "a31fc714",
   "metadata": {},
   "outputs": [
    {
     "name": "stdout",
     "output_type": "stream",
     "text": [
      "Tree\n",
      "outlook <=0.50: 1 (3) \n",
      "outlook >0.50\n",
      "|   humidity <=0.50: 0 (4) \n",
      "|   humidity >0.50\n",
      "|   |   wind <=0.50: 0 (1) \n",
      "|   |   wind >0.50: 1 (3) \n",
      "\n",
      "Accuracy score : 0.3333333333333333\n",
      "F1 score       : 0.5\n"
     ]
    }
   ],
   "source": [
    "# Play tennis\n",
    "id3Estimator(pt_x_train, pt_x_test, pt_y_train, pt_y_test, play_tennis_data['feature_names'])"
   ]
  },
  {
   "cell_type": "markdown",
   "id": "4c3e7f57",
   "metadata": {},
   "source": [
    "Logistic Regression"
   ]
  },
  {
   "cell_type": "code",
   "execution_count": 57,
   "id": "576d92d1",
   "metadata": {},
   "outputs": [],
   "source": [
    "from sklearn.linear_model import LogisticRegression"
   ]
  },
  {
   "cell_type": "code",
   "execution_count": 58,
   "id": "d5e53d5e",
   "metadata": {},
   "outputs": [],
   "source": [
    "def logisticRegression(x_train, x_test, y_train, y_test):\n",
    "    # Fit\n",
    "    clf = LogisticRegression(random_state=0, max_iter=10000)\n",
    "    clf.fit(x_train, y_train)\n",
    "    \n",
    "    # Visualisasi model\n",
    "    #\n",
    "    \n",
    "    # Predict\n",
    "    pred = clf.predict(x_test)\n",
    "    \n",
    "    # Score\n",
    "    # Accuracy\n",
    "    acc_score = accuracy_score(y_test, pred)\n",
    "    # F1 Score\n",
    "    f_score = f1_score(y_test, pred)\n",
    "    \n",
    "    print(f\"Accuracy score : {acc_score}\")\n",
    "    print(f\"F1 score       : {f_score}\")"
   ]
  },
  {
   "cell_type": "code",
   "execution_count": 59,
   "id": "12c232a8",
   "metadata": {},
   "outputs": [
    {
     "name": "stdout",
     "output_type": "stream",
     "text": [
      "Accuracy score : 0.9210526315789473\n",
      "F1 score       : 0.9395973154362416\n"
     ]
    }
   ],
   "source": [
    "# Breast cancer\n",
    "logisticRegression(bc_x_train, bc_x_test, bc_y_train, bc_y_test)"
   ]
  },
  {
   "cell_type": "code",
   "execution_count": 50,
   "id": "07f8d59d",
   "metadata": {},
   "outputs": [
    {
     "name": "stdout",
     "output_type": "stream",
     "text": [
      "Accuracy score : 0.6666666666666666\n",
      "F1 score       : 0.8\n"
     ]
    }
   ],
   "source": [
    "# Play tennis\n",
    "logisticRegression(pt_x_train, pt_x_test, pt_y_train, pt_y_test)"
   ]
  }
 ],
 "metadata": {
  "kernelspec": {
   "display_name": "Python 3 (ipykernel)",
   "language": "python",
   "name": "python3"
  },
  "language_info": {
   "codemirror_mode": {
    "name": "ipython",
    "version": 3
   },
   "file_extension": ".py",
   "mimetype": "text/x-python",
   "name": "python",
   "nbconvert_exporter": "python",
   "pygments_lexer": "ipython3",
   "version": "3.10.2"
  }
 },
 "nbformat": 4,
 "nbformat_minor": 5
}
